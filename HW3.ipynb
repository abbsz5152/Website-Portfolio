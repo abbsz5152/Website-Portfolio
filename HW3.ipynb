{
  "nbformat": 4,
  "nbformat_minor": 0,
  "metadata": {
    "colab": {
      "provenance": [],
      "gpuType": "T4",
      "mount_file_id": "1ycCCLgZxPGZJhICp0L45UXpqRcAnNoYh",
      "authorship_tag": "ABX9TyMIgTOLNs7k1RL5BpI99IfH",
      "include_colab_link": true
    },
    "kernelspec": {
      "name": "python3",
      "display_name": "Python 3"
    },
    "language_info": {
      "name": "python"
    },
    "accelerator": "GPU"
  },
  "cells": [
    {
      "cell_type": "markdown",
      "metadata": {
        "id": "view-in-github",
        "colab_type": "text"
      },
      "source": [
        "<a href=\"https://colab.research.google.com/github/abbsz5152/Website-Portfolio/blob/master/HW3.ipynb\" target=\"_parent\"><img src=\"https://colab.research.google.com/assets/colab-badge.svg\" alt=\"Open In Colab\"/></a>"
      ]
    },
    {
      "cell_type": "code",
      "execution_count": 7,
      "metadata": {
        "colab": {
          "base_uri": "https://localhost:8080/"
        },
        "id": "C5Sbt-F3sXfh",
        "outputId": "c24a7234-a707-46b9-96d0-90ad7aaca3e1"
      },
      "outputs": [
        {
          "output_type": "stream",
          "name": "stdout",
          "text": [
            "/content/drive/MyDrive/homework3_original\n"
          ]
        }
      ],
      "source": [
        "%cd /content/drive/MyDrive/homework3_original"
      ]
    },
    {
      "cell_type": "code",
      "source": [
        "!python -m homework.train_classification"
      ],
      "metadata": {
        "id": "G3jMlNcH7fZ0"
      },
      "execution_count": 16,
      "outputs": []
    },
    {
      "cell_type": "code",
      "source": [
        "!python -m grader homework -v"
      ],
      "metadata": {
        "colab": {
          "base_uri": "https://localhost:8080/"
        },
        "id": "dJ3FcCRb-GKo",
        "outputId": "562567b8-db71-45b9-ecc0-766d1a2e7c03"
      },
      "execution_count": 15,
      "outputs": [
        {
          "output_type": "stream",
          "name": "stdout",
          "text": [
            "Public grader loaded.\n",
            "\u001b[97m[INFO     00:00:016] \u001b[0m\u001b[97mClassifier\u001b[0m\n",
            "\u001b[31m[ERROR    00:00:022] \u001b[0m\u001b[31mYour program crashed\u001b[0m\n",
            "\u001b[31m[ERROR    00:00:022] \u001b[0m\u001b[31mTraceback (most recent call last):\u001b[0m\n",
            "\u001b[31m[ERROR    00:00:022] \u001b[0m\u001b[31m  File \"/content/drive/MyDrive/homework3_original/grader/grader.py\", line 184, in grade\u001b[0m\n",
            "\u001b[31m[ERROR    00:00:022] \u001b[0m\u001b[31m    grader = g(assignment_module, logger, verbose)\u001b[0m\n",
            "\u001b[31m[ERROR    00:00:022] \u001b[0m\u001b[31m  File \"/content/drive/MyDrive/homework3_original/grader/tests.py\", line 86, in __init__\u001b[0m\n",
            "\u001b[31m[ERROR    00:00:022] \u001b[0m\u001b[31m    super().__init__(*args, **kwargs)\u001b[0m\n",
            "\u001b[31m[ERROR    00:00:022] \u001b[0m\u001b[31m  File \"/content/drive/MyDrive/homework3_original/grader/tests.py\", line 40, in __init__\u001b[0m\n",
            "\u001b[31m[ERROR    00:00:022] \u001b[0m\u001b[31m    raise RuntimeError(\"No hardware acceleration available\")\u001b[0m\n",
            "\u001b[31m[ERROR    00:00:022] \u001b[0m\u001b[31mRuntimeError: No hardware acceleration available\u001b[0m\n",
            "\u001b[97m[INFO     00:00:025] \u001b[0m\u001b[97m --------------------------------------------------    [   0 /  37 ]\u001b[0m\n",
            "\u001b[97m[INFO     00:00:032] \u001b[0m\u001b[97mDetector\u001b[0m\n",
            "\u001b[31m[ERROR    00:00:033] \u001b[0m\u001b[31mYour program crashed\u001b[0m\n",
            "\u001b[31m[ERROR    00:00:033] \u001b[0m\u001b[31mTraceback (most recent call last):\u001b[0m\n",
            "\u001b[31m[ERROR    00:00:033] \u001b[0m\u001b[31m  File \"/content/drive/MyDrive/homework3_original/grader/grader.py\", line 184, in grade\u001b[0m\n",
            "\u001b[31m[ERROR    00:00:033] \u001b[0m\u001b[31m    grader = g(assignment_module, logger, verbose)\u001b[0m\n",
            "\u001b[31m[ERROR    00:00:033] \u001b[0m\u001b[31m  File \"/content/drive/MyDrive/homework3_original/grader/tests.py\", line 148, in __init__\u001b[0m\n",
            "\u001b[31m[ERROR    00:00:033] \u001b[0m\u001b[31m    super().__init__(*args, **kwargs)\u001b[0m\n",
            "\u001b[31m[ERROR    00:00:033] \u001b[0m\u001b[31m  File \"/content/drive/MyDrive/homework3_original/grader/tests.py\", line 40, in __init__\u001b[0m\n",
            "\u001b[31m[ERROR    00:00:033] \u001b[0m\u001b[31m    raise RuntimeError(\"No hardware acceleration available\")\u001b[0m\n",
            "\u001b[31m[ERROR    00:00:033] \u001b[0m\u001b[31mRuntimeError: No hardware acceleration available\u001b[0m\n",
            "\u001b[97m[INFO     00:00:038] \u001b[0m\u001b[97m --------------------------------------------------    [   0 /  69 ]\u001b[0m\n",
            "\u001b[97m[INFO     00:00:038] \u001b[0m\u001b[97mTotal                                                      0 / 106\u001b[0m\n"
          ]
        }
      ]
    },
    {
      "cell_type": "code",
      "source": [
        "!python -m grader homework -v"
      ],
      "metadata": {
        "colab": {
          "base_uri": "https://localhost:8080/"
        },
        "id": "O_79GBy37Le2",
        "outputId": "62713a31-18fc-492b-f412-8a40cf97499d"
      },
      "execution_count": 8,
      "outputs": [
        {
          "output_type": "stream",
          "name": "stdout",
          "text": [
            "Public grader loaded.\n",
            "\u001b[97m[INFO     00:00:263] \u001b[0m\u001b[97mClassifier\u001b[0m\n",
            "\u001b[31m[ERROR    00:00:268] \u001b[0m\u001b[31mYour program crashed\u001b[0m\n",
            "\u001b[31m[ERROR    00:00:268] \u001b[0m\u001b[31mTraceback (most recent call last):\u001b[0m\n",
            "\u001b[31m[ERROR    00:00:268] \u001b[0m\u001b[31m  File \"/content/drive/MyDrive/homework3_original/grader/grader.py\", line 184, in grade\u001b[0m\n",
            "\u001b[31m[ERROR    00:00:268] \u001b[0m\u001b[31m    grader = g(assignment_module, logger, verbose)\u001b[0m\n",
            "\u001b[31m[ERROR    00:00:268] \u001b[0m\u001b[31m  File \"/content/drive/MyDrive/homework3_original/grader/tests.py\", line 86, in __init__\u001b[0m\n",
            "\u001b[31m[ERROR    00:00:268] \u001b[0m\u001b[31m    super().__init__(*args, **kwargs)\u001b[0m\n",
            "\u001b[31m[ERROR    00:00:268] \u001b[0m\u001b[31m  File \"/content/drive/MyDrive/homework3_original/grader/tests.py\", line 40, in __init__\u001b[0m\n",
            "\u001b[31m[ERROR    00:00:268] \u001b[0m\u001b[31m    raise RuntimeError(\"No hardware acceleration available\")\u001b[0m\n",
            "\u001b[31m[ERROR    00:00:268] \u001b[0m\u001b[31mRuntimeError: No hardware acceleration available\u001b[0m\n",
            "\u001b[97m[INFO     00:00:271] \u001b[0m\u001b[97m --------------------------------------------------    [   0 /  37 ]\u001b[0m\n",
            "\u001b[97m[INFO     00:00:276] \u001b[0m\u001b[97mDetector\u001b[0m\n",
            "\u001b[31m[ERROR    00:00:276] \u001b[0m\u001b[31mYour program crashed\u001b[0m\n",
            "\u001b[31m[ERROR    00:00:276] \u001b[0m\u001b[31mTraceback (most recent call last):\u001b[0m\n",
            "\u001b[31m[ERROR    00:00:276] \u001b[0m\u001b[31m  File \"/content/drive/MyDrive/homework3_original/grader/grader.py\", line 184, in grade\u001b[0m\n",
            "\u001b[31m[ERROR    00:00:276] \u001b[0m\u001b[31m    grader = g(assignment_module, logger, verbose)\u001b[0m\n",
            "\u001b[31m[ERROR    00:00:276] \u001b[0m\u001b[31m  File \"/content/drive/MyDrive/homework3_original/grader/tests.py\", line 148, in __init__\u001b[0m\n",
            "\u001b[31m[ERROR    00:00:276] \u001b[0m\u001b[31m    super().__init__(*args, **kwargs)\u001b[0m\n",
            "\u001b[31m[ERROR    00:00:276] \u001b[0m\u001b[31m  File \"/content/drive/MyDrive/homework3_original/grader/tests.py\", line 40, in __init__\u001b[0m\n",
            "\u001b[31m[ERROR    00:00:276] \u001b[0m\u001b[31m    raise RuntimeError(\"No hardware acceleration available\")\u001b[0m\n",
            "\u001b[31m[ERROR    00:00:276] \u001b[0m\u001b[31mRuntimeError: No hardware acceleration available\u001b[0m\n",
            "\u001b[97m[INFO     00:00:282] \u001b[0m\u001b[97m --------------------------------------------------    [   0 /  69 ]\u001b[0m\n",
            "\u001b[97m[INFO     00:00:282] \u001b[0m\u001b[97mTotal                                                      0 / 106\u001b[0m\n"
          ]
        }
      ]
    }
  ]
}
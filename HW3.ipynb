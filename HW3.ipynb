{
  "nbformat": 4,
  "nbformat_minor": 0,
  "metadata": {
    "colab": {
      "provenance": [],
      "gpuType": "T4",
      "mount_file_id": "1ycCCLgZxPGZJhICp0L45UXpqRcAnNoYh",
      "authorship_tag": "ABX9TyNNxqmVIZC7H4sS0bCHvvWb",
      "include_colab_link": true
    },
    "kernelspec": {
      "name": "python3",
      "display_name": "Python 3"
    },
    "language_info": {
      "name": "python"
    },
    "accelerator": "GPU"
  },
  "cells": [
    {
      "cell_type": "markdown",
      "metadata": {
        "id": "view-in-github",
        "colab_type": "text"
      },
      "source": [
        "<a href=\"https://colab.research.google.com/github/abbsz5152/Website-Portfolio/blob/master/HW3.ipynb\" target=\"_parent\"><img src=\"https://colab.research.google.com/assets/colab-badge.svg\" alt=\"Open In Colab\"/></a>"
      ]
    },
    {
      "cell_type": "code",
      "execution_count": 19,
      "metadata": {
        "colab": {
          "base_uri": "https://localhost:8080/"
        },
        "id": "C5Sbt-F3sXfh",
        "outputId": "2042155e-3892-4cfe-fea9-1d9d5efe1612"
      },
      "outputs": [
        {
          "output_type": "stream",
          "name": "stdout",
          "text": [
            "/content/drive/MyDrive/homework3_original\n"
          ]
        }
      ],
      "source": [
        "%cd /content/drive/MyDrive/homework3_original"
      ]
    },
    {
      "cell_type": "code",
      "source": [
        "# !curl -s -L https://www.cs.utexas.edu/~bzhou/dl_class/classification_data.zip -o ./classification_data.zip && unzip -qo classification_data.zip\n",
        "# !curl -s -L https://www.cs.utexas.edu/~bzhou/dl_class/road_data.zip -o ./road_data.zip && unzip -qo road_data.zip"
      ],
      "metadata": {
        "id": "R9QIa9LS93fs"
      },
      "execution_count": 21,
      "outputs": []
    },
    {
      "cell_type": "markdown",
      "source": [],
      "metadata": {
        "id": "4yn2rC68ZwHc"
      }
    },
    {
      "cell_type": "code",
      "source": [
        "!python -m homework.train_classification"
      ],
      "metadata": {
        "id": "G3jMlNcH7fZ0",
        "colab": {
          "base_uri": "https://localhost:8080/"
        },
        "outputId": "a2814422-63b1-4188-bc8d-967622eeda2a"
      },
      "execution_count": null,
      "outputs": [
        {
          "output_type": "stream",
          "name": "stdout",
          "text": [
            "/usr/local/lib/python3.10/dist-packages/torch/utils/data/dataloader.py:557: UserWarning: This DataLoader will create 4 worker processes in total. Our suggested max number of worker in current system is 2, which is smaller than what this DataLoader is going to create. Please be aware that excessive worker creation might get DataLoader running slow or even freeze, lower the worker number to avoid potential slowness/freeze if necessary.\n",
            "  warnings.warn(_create_warning_msg(\n",
            "Epoch 1, Training Loss: 1.2052182216286338\n",
            "Validation Accuracy: 0.7395\n",
            "Epoch 2, Training Loss: 0.47837711924739434\n",
            "Validation Accuracy: 0.7927\n",
            "Epoch 3, Training Loss: 0.3230730464703115\n",
            "Validation Accuracy: 0.8161\n",
            "Epoch 4, Training Loss: 0.24467585334705813\n",
            "Validation Accuracy: 0.8300\n",
            "Epoch 5, Training Loss: 0.16972321793333642\n",
            "Validation Accuracy: 0.8359\n",
            "Epoch 6, Training Loss: 0.12821190170135086\n",
            "Validation Accuracy: 0.8159\n",
            "Epoch 7, Training Loss: 0.10795145213099905\n",
            "Validation Accuracy: 0.8195\n",
            "Epoch 8, Training Loss: 0.08159861831687039\n",
            "Validation Accuracy: 0.8414\n",
            "Epoch 9, Training Loss: 0.09844699761138047\n",
            "Validation Accuracy: 0.8224\n"
          ]
        }
      ]
    },
    {
      "cell_type": "code",
      "source": [
        "!pwd"
      ],
      "metadata": {
        "colab": {
          "base_uri": "https://localhost:8080/"
        },
        "id": "HjH7_rKrCPtU",
        "outputId": "55d400ba-cf96-4448-a7a3-f4d83b29a734"
      },
      "execution_count": 39,
      "outputs": [
        {
          "output_type": "stream",
          "name": "stdout",
          "text": [
            "/content/drive/MyDrive/homework3_original\n"
          ]
        }
      ]
    },
    {
      "cell_type": "code",
      "source": [],
      "metadata": {
        "id": "ojPUHP5BE6sj"
      },
      "execution_count": null,
      "outputs": []
    },
    {
      "cell_type": "markdown",
      "source": [],
      "metadata": {
        "id": "7mxg11jdX1uX"
      }
    },
    {
      "cell_type": "markdown",
      "source": [],
      "metadata": {
        "id": "yVk95hjVW1U-"
      }
    },
    {
      "cell_type": "code",
      "source": [
        "!python -m grader homework -v"
      ],
      "metadata": {
        "colab": {
          "base_uri": "https://localhost:8080/"
        },
        "id": "dJ3FcCRb-GKo",
        "outputId": "abe5615d-cfe7-4f89-b604-d0b10fb36a4c"
      },
      "execution_count": 17,
      "outputs": [
        {
          "output_type": "stream",
          "name": "stdout",
          "text": [
            "Public grader loaded.\n",
            "\u001b[97m[INFO     00:00:022] \u001b[0m\u001b[97mClassifier\u001b[0m\n",
            "\u001b[31m[ERROR    00:00:045] \u001b[0m\u001b[31mYour program crashed\u001b[0m\n",
            "\u001b[31m[ERROR    00:00:045] \u001b[0m\u001b[31mTraceback (most recent call last):\u001b[0m\n",
            "\u001b[31m[ERROR    00:00:045] \u001b[0m\u001b[31m  File \"/content/drive/MyDrive/homework3_original/grader/grader.py\", line 184, in grade\u001b[0m\n",
            "\u001b[31m[ERROR    00:00:045] \u001b[0m\u001b[31m    grader = g(assignment_module, logger, verbose)\u001b[0m\n",
            "\u001b[31m[ERROR    00:00:045] \u001b[0m\u001b[31m  File \"/content/drive/MyDrive/homework3_original/grader/tests.py\", line 88, in __init__\u001b[0m\n",
            "\u001b[31m[ERROR    00:00:045] \u001b[0m\u001b[31m    self.data = classification_dataset.load_data(\u001b[0m\n",
            "\u001b[31m[ERROR    00:00:045] \u001b[0m\u001b[31m  File \"/content/drive/MyDrive/homework3_original/grader/datasets/classification_dataset.py\", line 88, in load_data\u001b[0m\n",
            "\u001b[31m[ERROR    00:00:045] \u001b[0m\u001b[31m    dataset = SuperTuxDataset(dataset_path, transform_pipeline=transform_pipeline)\u001b[0m\n",
            "\u001b[31m[ERROR    00:00:045] \u001b[0m\u001b[31m  File \"/content/drive/MyDrive/homework3_original/grader/datasets/classification_dataset.py\", line 24, in __init__\u001b[0m\n",
            "\u001b[31m[ERROR    00:00:045] \u001b[0m\u001b[31m    with open(Path(dataset_path, \"labels.csv\"), newline=\"\") as f:\u001b[0m\n",
            "\u001b[31m[ERROR    00:00:045] \u001b[0m\u001b[31mFileNotFoundError: [Errno 2] No such file or directory: 'classification_data/val/labels.csv'\u001b[0m\n",
            "\u001b[97m[INFO     00:00:048] \u001b[0m\u001b[97m --------------------------------------------------    [   0 /  37 ]\u001b[0m\n",
            "\u001b[97m[INFO     00:00:053] \u001b[0m\u001b[97mDetector\u001b[0m\n",
            "\u001b[31m[ERROR    00:00:056] \u001b[0m\u001b[31mYour program crashed\u001b[0m\n",
            "\u001b[31m[ERROR    00:00:056] \u001b[0m\u001b[31mTraceback (most recent call last):\u001b[0m\n",
            "\u001b[31m[ERROR    00:00:056] \u001b[0m\u001b[31m  File \"/content/drive/MyDrive/homework3_original/grader/grader.py\", line 184, in grade\u001b[0m\n",
            "\u001b[31m[ERROR    00:00:056] \u001b[0m\u001b[31m    grader = g(assignment_module, logger, verbose)\u001b[0m\n",
            "\u001b[31m[ERROR    00:00:056] \u001b[0m\u001b[31m  File \"/content/drive/MyDrive/homework3_original/grader/tests.py\", line 150, in __init__\u001b[0m\n",
            "\u001b[31m[ERROR    00:00:056] \u001b[0m\u001b[31m    self.data = road_dataset.load_data(\u001b[0m\n",
            "\u001b[31m[ERROR    00:00:056] \u001b[0m\u001b[31m  File \"/content/drive/MyDrive/homework3_original/grader/datasets/road_dataset.py\", line 92, in load_data\u001b[0m\n",
            "\u001b[31m[ERROR    00:00:056] \u001b[0m\u001b[31m    for episode_path in sorted(Path(dataset_path).iterdir()):\u001b[0m\n",
            "\u001b[31m[ERROR    00:00:056] \u001b[0m\u001b[31m  File \"/usr/lib/python3.10/pathlib.py\", line 1017, in iterdir\u001b[0m\n",
            "\u001b[31m[ERROR    00:00:056] \u001b[0m\u001b[31m    for name in self._accessor.listdir(self):\u001b[0m\n",
            "\u001b[31m[ERROR    00:00:056] \u001b[0m\u001b[31mFileNotFoundError: [Errno 2] No such file or directory: 'road_data/val'\u001b[0m\n",
            "\u001b[97m[INFO     00:00:060] \u001b[0m\u001b[97m --------------------------------------------------    [   0 /  69 ]\u001b[0m\n",
            "\u001b[97m[INFO     00:00:060] \u001b[0m\u001b[97mTotal                                                      0 / 106\u001b[0m\n"
          ]
        }
      ]
    },
    {
      "cell_type": "code",
      "source": [
        "!python -m grader homework -v\n"
      ],
      "metadata": {
        "colab": {
          "base_uri": "https://localhost:8080/"
        },
        "id": "O_79GBy37Le2",
        "outputId": "48d9f3a7-66ba-4aa8-c4d0-1b89574a1d42"
      },
      "execution_count": null,
      "outputs": [
        {
          "output_type": "stream",
          "name": "stdout",
          "text": [
            "/usr/bin/python3: No module named grader\n"
          ]
        }
      ]
    },
    {
      "cell_type": "code",
      "source": [
        "!curl -O https://www.cs.utexas.edu/~bzhou/dl_class/homework3.zip\n",
        "!unzip -o homework3.zip\n",
        "!rm homework3.zip\n",
        "!curl -O https://www.cs.utexas.edu/~bzhou/dl_class/classification_data.zip\n",
        "!unzip -o classification_data.zip > /dev/null\n",
        "!rm classification_data.zip\n",
        "\n",
        "!curl -O https://www.cs.utexas.edu/~bzhou/dl_class/road_data.zip\n",
        "!unzip -o road_data.zip > /dev/null\n",
        "!rm road_data.zip\n",
        "\n",
        "# refreshes python imports automatically when you edit the source file\n",
        "%load_ext autoreload\n",
        "%autoreload 2"
      ],
      "metadata": {
        "colab": {
          "base_uri": "https://localhost:8080/"
        },
        "id": "JNlBduTyZwVs",
        "outputId": "58b2124a-1daf-4a3e-a7f7-6ac57ad27975"
      },
      "execution_count": null,
      "outputs": [
        {
          "output_type": "stream",
          "name": "stdout",
          "text": [
            "  % Total    % Received % Xferd  Average Speed   Time    Time     Time  Current\n",
            "                                 Dload  Upload   Total   Spent    Left  Speed\n",
            "100 24239  100 24239    0     0  45428      0 --:--:-- --:--:-- --:--:-- 45476\n",
            "Archive:  homework3.zip\n",
            "  inflating: README.md               \n",
            "  inflating: requirements.txt        \n",
            "  inflating: bundle.py               \n",
            "  inflating: homework/__init__.py    \n",
            "  inflating: grader/__main__.py      \n",
            "  inflating: grader/grader.py        \n",
            "  inflating: grader/metrics.py       \n",
            "  inflating: grader/tests.py         \n",
            "  inflating: grader/datasets/classification_dataset.py  \n",
            "  inflating: grader/datasets/road_dataset.py  \n",
            "  inflating: grader/datasets/road_transforms.py  \n",
            "  inflating: grader/datasets/road_utils.py  \n",
            "  inflating: homework/metrics.py     \n",
            "  inflating: homework/models.py      \n",
            "  inflating: homework/datasets/classification_dataset.py  \n",
            "  inflating: homework/datasets/road_dataset.py  \n",
            "  inflating: homework/datasets/road_transforms.py  \n",
            "  inflating: homework/datasets/road_utils.py  \n",
            "  % Total    % Received % Xferd  Average Speed   Time    Time     Time  Current\n",
            "                                 Dload  Upload   Total   Spent    Left  Speed\n",
            "100 46.7M  100 46.7M    0     0  15.2M      0  0:00:03  0:00:03 --:--:-- 15.2M\n",
            "  % Total    % Received % Xferd  Average Speed   Time    Time     Time  Current\n",
            "                                 Dload  Upload   Total   Spent    Left  Speed\n",
            "100 61.9M  100 61.9M    0     0  14.7M      0  0:00:04  0:00:04 --:--:-- 14.7M\n"
          ]
        }
      ]
    },
    {
      "cell_type": "code",
      "source": [
        "!python./homework/train_classification.py"
      ],
      "metadata": {
        "colab": {
          "base_uri": "https://localhost:8080/"
        },
        "id": "-MKRIEUUbUzH",
        "outputId": "627de253-1e1e-4d8d-9dee-f63fb34985d1"
      },
      "execution_count": null,
      "outputs": [
        {
          "output_type": "stream",
          "name": "stdout",
          "text": [
            "/bin/bash: line 1: python./homework/train_classification.py: No such file or directory\n"
          ]
        }
      ]
    },
    {
      "cell_type": "code",
      "source": [
        "project_directory/"
      ],
      "metadata": {
        "colab": {
          "base_uri": "https://localhost:8080/",
          "height": 106
        },
        "id": "dWn5y389bvMQ",
        "outputId": "deb152f8-cda9-42fd-d54a-212c41a6a7f1"
      },
      "execution_count": null,
      "outputs": [
        {
          "output_type": "error",
          "ename": "SyntaxError",
          "evalue": "invalid syntax (<ipython-input-15-0196a7a2e8fa>, line 1)",
          "traceback": [
            "\u001b[0;36m  File \u001b[0;32m\"<ipython-input-15-0196a7a2e8fa>\"\u001b[0;36m, line \u001b[0;32m1\u001b[0m\n\u001b[0;31m    project_directory/\u001b[0m\n\u001b[0m                      ^\u001b[0m\n\u001b[0;31mSyntaxError\u001b[0m\u001b[0;31m:\u001b[0m invalid syntax\n"
          ]
        }
      ]
    }
  ]
}
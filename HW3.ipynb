{
  "cells": [
    {
      "cell_type": "markdown",
      "metadata": {
        "id": "view-in-github",
        "colab_type": "text"
      },
      "source": [
        "<a href=\"https://colab.research.google.com/github/abbsz5152/Website-Portfolio/blob/master/HW3.ipynb\" target=\"_parent\"><img src=\"https://colab.research.google.com/assets/colab-badge.svg\" alt=\"Open In Colab\"/></a>"
      ]
    },
    {
      "cell_type": "code",
      "execution_count": 4,
      "metadata": {
        "colab": {
          "base_uri": "https://localhost:8080/"
        },
        "id": "C5Sbt-F3sXfh",
        "outputId": "9dec21cc-1207-4191-b59e-40432c4e34f9"
      },
      "outputs": [
        {
          "output_type": "stream",
          "name": "stdout",
          "text": [
            "/content/drive/MyDrive/homework3_original\n"
          ]
        }
      ],
      "source": [
        "%cd /content/drive/MyDrive/homework3_original"
      ]
    },
    {
      "cell_type": "code",
      "execution_count": null,
      "metadata": {
        "id": "R9QIa9LS93fs"
      },
      "outputs": [],
      "source": [
        "# !curl -s -L https://www.cs.utexas.edu/~bzhou/dl_class/classification_data.zip -o ./classification_data.zip && unzip -qo classification_data.zip\n",
        "# !curl -s -L https://www.cs.utexas.edu/~bzhou/dl_class/road_data.zip -o ./road_data.zip && unzip -qo road_data.zip"
      ]
    },
    {
      "cell_type": "markdown",
      "metadata": {
        "id": "4yn2rC68ZwHc"
      },
      "source": []
    },
    {
      "cell_type": "code",
      "execution_count": 7,
      "metadata": {
        "colab": {
          "base_uri": "https://localhost:8080/"
        },
        "id": "G3jMlNcH7fZ0",
        "outputId": "f055227e-8765-440b-adb5-b88f98eb19b1"
      },
      "outputs": [
        {
          "output_type": "stream",
          "name": "stdout",
          "text": [
            "Epoch 1, Training Loss: 1.2748480912797697\n",
            "Validation Accuracy: 0.6493\n",
            "Epoch 2, Training Loss: 0.5135851339870076\n",
            "Validation Accuracy: 0.6708\n",
            "Epoch 3, Training Loss: 0.37510963834423955\n",
            "Validation Accuracy: 0.7438\n",
            "Epoch 4, Training Loss: 0.2626670096628581\n",
            "Validation Accuracy: 0.7819\n",
            "Epoch 5, Training Loss: 0.19452232390495938\n",
            "Validation Accuracy: 0.7906\n",
            "Epoch 6, Training Loss: 0.14606747988945268\n",
            "Validation Accuracy: 0.7635\n",
            "Epoch 7, Training Loss: 0.10947643851159228\n",
            "Validation Accuracy: 0.8045\n",
            "Epoch 8, Training Loss: 0.08415296499169483\n",
            "Validation Accuracy: 0.7894\n",
            "Epoch 9, Training Loss: 0.06326580577117248\n",
            "Validation Accuracy: 0.7900\n",
            "Epoch 10, Training Loss: 0.04240372714988824\n",
            "Validation Accuracy: 0.7802\n",
            "Epoch 11, Training Loss: 0.039456793569256236\n",
            "Validation Accuracy: 0.7993\n",
            "Epoch 12, Training Loss: 0.06773070986584355\n",
            "Validation Accuracy: 0.8228\n",
            "Epoch 13, Training Loss: 0.033534413588513626\n",
            "Validation Accuracy: 0.8304\n",
            "Epoch 14, Training Loss: 0.03803405889790217\n",
            "Validation Accuracy: 0.8355\n",
            "Epoch 15, Training Loss: 0.040339876656905395\n",
            "Validation Accuracy: 0.8272\n",
            "Epoch 16, Training Loss: 0.039094841822705916\n",
            "Validation Accuracy: 0.8079\n",
            "Epoch 17, Training Loss: 0.029496753747717725\n",
            "Validation Accuracy: 0.8086\n",
            "Epoch 18, Training Loss: 0.03354553480782953\n",
            "Validation Accuracy: 0.8403\n",
            "Epoch 19, Training Loss: 0.03512956210467834\n",
            "Validation Accuracy: 0.8394\n",
            "Epoch 20, Training Loss: 0.03463430070832219\n",
            "Validation Accuracy: 0.8131\n",
            "Epoch 21, Training Loss: 0.029311179927764667\n",
            "Validation Accuracy: 0.8167\n",
            "Epoch 22, Training Loss: 0.017697256641124398\n",
            "Validation Accuracy: 0.8354\n",
            "Epoch 23, Training Loss: 0.03277941164480388\n",
            "Validation Accuracy: 0.7923\n",
            "Epoch 24, Training Loss: 0.037250640518016784\n",
            "Validation Accuracy: 0.8384\n",
            "Epoch 25, Training Loss: 0.015675938341641237\n",
            "Validation Accuracy: 0.8444\n",
            "Epoch 26, Training Loss: 0.014263061426906023\n",
            "Validation Accuracy: 0.8421\n",
            "Epoch 27, Training Loss: 0.015961534887816084\n",
            "Validation Accuracy: 0.8333\n",
            "Epoch 28, Training Loss: 0.01437916935830091\n",
            "Validation Accuracy: 0.8529\n",
            "Epoch 29, Training Loss: 0.07793513171939843\n",
            "Validation Accuracy: 0.8556\n",
            "Epoch 30, Training Loss: 0.02040190379412372\n",
            "Validation Accuracy: 0.8751\n",
            "Epoch 31, Training Loss: 0.012536426504918267\n",
            "Validation Accuracy: 0.8580\n",
            "Epoch 32, Training Loss: 0.011366677106660002\n",
            "Validation Accuracy: 0.8688\n",
            "Epoch 33, Training Loss: 0.02586108497435938\n",
            "Validation Accuracy: 0.8527\n",
            "Epoch 34, Training Loss: 0.006368695630742984\n",
            "Validation Accuracy: 0.8743\n",
            "Epoch 35, Training Loss: 0.00619202340385451\n",
            "Validation Accuracy: 0.8858\n",
            "Epoch 36, Training Loss: 0.016336936446139688\n",
            "Validation Accuracy: 0.8429\n",
            "Epoch 37, Training Loss: 0.01807058262041212\n",
            "Validation Accuracy: 0.8499\n",
            "Epoch 38, Training Loss: 0.03275270963896152\n",
            "Validation Accuracy: 0.8607\n",
            "Epoch 39, Training Loss: 0.012627021623988294\n",
            "Validation Accuracy: 0.8768\n",
            "Epoch 40, Training Loss: 0.017234630989972542\n",
            "Validation Accuracy: 0.8552\n",
            "Epoch 41, Training Loss: 0.010543021830135915\n",
            "Validation Accuracy: 0.8623\n",
            "Epoch 42, Training Loss: 0.13106542102969826\n",
            "Validation Accuracy: 0.8578\n",
            "Epoch 43, Training Loss: 0.01930454794236281\n",
            "Validation Accuracy: 0.8690\n",
            "Epoch 44, Training Loss: 0.006061347422165184\n",
            "Validation Accuracy: 0.8741\n",
            "Epoch 45, Training Loss: 0.002644409114542953\n",
            "Validation Accuracy: 0.8761\n",
            "Saving model to: /content/drive/MyDrive/homework3_original/homework/classifier.th\n"
          ]
        }
      ],
      "source": [
        "!python -m homework.train_classification"
      ]
    },
    {
      "cell_type": "markdown",
      "metadata": {
        "id": "PdkOy61M1UQG"
      },
      "source": []
    },
    {
      "cell_type": "code",
      "execution_count": null,
      "metadata": {
        "colab": {
          "base_uri": "https://localhost:8080/"
        },
        "id": "HjH7_rKrCPtU",
        "outputId": "2c543264-9044-4a7c-a938-5d77ef5fb1cb"
      },
      "outputs": [
        {
          "name": "stdout",
          "output_type": "stream",
          "text": [
            "/usr/bin/python3: No module named homework.classifier\n"
          ]
        }
      ],
      "source": []
    },
    {
      "cell_type": "code",
      "execution_count": null,
      "metadata": {
        "colab": {
          "base_uri": "https://localhost:8080/"
        },
        "id": "NnBYPDYOTqy9",
        "outputId": "55b5f4fa-0e3f-4cc3-d5a0-bcdf90b3b482"
      },
      "outputs": [
        {
          "name": "stdout",
          "output_type": "stream",
          "text": [
            "Traceback (most recent call last):\n",
            "  File \"/usr/lib/python3.10/runpy.py\", line 196, in _run_module_as_main\n",
            "    return _run_code(code, main_globals, None,\n",
            "  File \"/usr/lib/python3.10/runpy.py\", line 86, in _run_code\n",
            "    exec(code, run_globals)\n",
            "  File \"/content/drive/MyDrive/homework3_original/homework/train_detection.py\", line 20, in <module>\n",
            "    train_loader = load_data(dataset_path=train_path, transform_pipeline='aug', batch_size=batch_size)\n",
            "  File \"/content/drive/MyDrive/homework3_original/homework/datasets/road_dataset.py\", line 101, in load_data\n",
            "    datasets.append(RoadDataset(episode_path, transform_pipeline=transform_pipeline))\n",
            "  File \"/content/drive/MyDrive/homework3_original/homework/datasets/road_dataset.py\", line 24, in __init__\n",
            "    info = np.load(self.episode_path / \"info.npz\", allow_pickle=True)\n",
            "  File \"/usr/local/lib/python3.10/dist-packages/numpy/lib/npyio.py\", line 427, in load\n",
            "    fid = stack.enter_context(open(os_fspath(file), \"rb\"))\n",
            "FileNotFoundError: [Errno 2] No such file or directory: '/content/drive/MyDrive/homework3_original/road_data/train/cornfield_crossing_00/info.npz'\n"
          ]
        }
      ],
      "source": [
        "!python -m homework.train_detection"
      ]
    },
    {
      "cell_type": "markdown",
      "metadata": {
        "id": "k9PyhRKnu37s"
      },
      "source": []
    },
    {
      "cell_type": "code",
      "execution_count": 14,
      "metadata": {
        "id": "ojPUHP5BE6sj",
        "colab": {
          "base_uri": "https://localhost:8080/"
        },
        "outputId": "d7fac454-3b67-4c8d-96c4-a98a97cb6be4"
      },
      "outputs": [
        {
          "output_type": "stream",
          "name": "stdout",
          "text": [
            "\u001b[33mhint: Using 'master' as the name for the initial branch. This default branch name\u001b[m\n",
            "\u001b[33mhint: is subject to change. To configure the initial branch name to use in all\u001b[m\n",
            "\u001b[33mhint: of your new repositories, which will suppress this warning, call:\u001b[m\n",
            "\u001b[33mhint: \u001b[m\n",
            "\u001b[33mhint: \tgit config --global init.defaultBranch <name>\u001b[m\n",
            "\u001b[33mhint: \u001b[m\n",
            "\u001b[33mhint: Names commonly chosen instead of 'master' are 'main', 'trunk' and\u001b[m\n",
            "\u001b[33mhint: 'development'. The just-created branch can be renamed via this command:\u001b[m\n",
            "\u001b[33mhint: \u001b[m\n",
            "\u001b[33mhint: \tgit branch -m <name>\u001b[m\n",
            "Initialized empty Git repository in /content/drive/MyDrive/homework3_original/.git/\n"
          ]
        }
      ],
      "source": [
        "!git init"
      ]
    },
    {
      "cell_type": "markdown",
      "metadata": {
        "id": "7mxg11jdX1uX"
      },
      "source": []
    },
    {
      "cell_type": "markdown",
      "metadata": {
        "id": "yVk95hjVW1U-"
      },
      "source": []
    },
    {
      "cell_type": "code",
      "execution_count": 17,
      "metadata": {
        "colab": {
          "base_uri": "https://localhost:8080/"
        },
        "id": "dJ3FcCRb-GKo",
        "outputId": "c90f8b84-aa39-4ab6-d522-1fe3fce0fc0f"
      },
      "outputs": [
        {
          "output_type": "stream",
          "name": "stdout",
          "text": [
            "Public grader loaded.\n",
            "\u001b[97m[INFO     00:00:029] \u001b[0m\u001b[97mClassifier\u001b[0m\n",
            "\u001b[97m[INFO     00:00:437] \u001b[0m\u001b[97m  - Predict                                            [ 10 / 10 ]\u001b[0m\n",
            "/content/drive/MyDrive/homework3_original/./homework/models.py:171: FutureWarning: You are using `torch.load` with `weights_only=False` (the current default value), which uses the default pickle module implicitly. It is possible to construct malicious pickle data which will execute arbitrary code during unpickling (See https://github.com/pytorch/pytorch/blob/main/SECURITY.md#untrusted-models for more details). In a future release, the default value for `weights_only` will be flipped to `True`. This limits the functions that could be executed during unpickling. Arbitrary objects will no longer be allowed to be loaded via this mode unless they are explicitly allowlisted by the user via `torch.serialization.add_safe_globals`. We recommend you start setting `weights_only=True` for any use case where you don't have full control of the loaded file. Please open an issue on GitHub for any issues related to this experimental feature.\n",
            "  m.load_state_dict(torch.load(model_path, map_location=\"cpu\"))\n",
            "\u001b[97m[INFO     00:21:011] \u001b[0m\u001b[97m  - Accuracy                                           [ 25 / 25 ]\u001b[0m\n",
            "\u001b[33m[WARNING  00:21:011] \u001b[0m\u001b[33maccuracy: 0.859\u001b[0m\n",
            "\u001b[33m[WARNING  00:21:012] \u001b[0m\u001b[33m  - Accuracy: Extra Credit                             [ 1 / 2 ]\u001b[0m\n",
            "\u001b[97m[INFO     00:21:015] \u001b[0m\u001b[97m --------------------------------------------------    [  36 /  35 ]\u001b[0m\n",
            "\u001b[97m[INFO     00:21:019] \u001b[0m\u001b[97mDetector\u001b[0m\n",
            "\u001b[33m[WARNING  00:21:199] \u001b[0m\u001b[33m  - Predict                                            [ 0 / 10 ]\u001b[0m\n",
            "\u001b[33m[WARNING  00:21:199] \u001b[0m\u001b[33mDepth shape: torch.Size([4, 1, 96, 128])\u001b[0m\n",
            "\u001b[33m[WARNING  00:21:210] \u001b[0m\u001b[33m  - Segmentation Accuracy                              [ 0 / 10 ]\u001b[0m\n",
            "\u001b[33m[WARNING  00:21:210] \u001b[0m\u001b[33mdetector.th not found\u001b[0m\n",
            "\u001b[33m[WARNING  00:21:218] \u001b[0m\u001b[33m  - Segmentation IoU                                   [ 0 / 25 ]\u001b[0m\n",
            "\u001b[33m[WARNING  00:21:218] \u001b[0m\u001b[33mdetector.th not found\u001b[0m\n",
            "\u001b[33m[WARNING  00:21:226] \u001b[0m\u001b[33m  - Segmentation IoU: Extra Credit                     [ 0 / 2 ]\u001b[0m\n",
            "\u001b[33m[WARNING  00:21:226] \u001b[0m\u001b[33mdetector.th not found\u001b[0m\n",
            "\u001b[33m[WARNING  00:21:234] \u001b[0m\u001b[33m  - Depth Error                                        [ 0 / 10 ]\u001b[0m\n",
            "\u001b[33m[WARNING  00:21:234] \u001b[0m\u001b[33mdetector.th not found\u001b[0m\n",
            "\u001b[33m[WARNING  00:21:242] \u001b[0m\u001b[33m  - Depth Error: Extra Credit                          [ 0 / 2 ]\u001b[0m\n",
            "\u001b[33m[WARNING  00:21:242] \u001b[0m\u001b[33mdetector.th not found\u001b[0m\n",
            "\u001b[33m[WARNING  00:21:250] \u001b[0m\u001b[33m  - True Positives Depth Error                         [ 0 / 10 ]\u001b[0m\n",
            "\u001b[33m[WARNING  00:21:250] \u001b[0m\u001b[33mdetector.th not found\u001b[0m\n",
            "\u001b[97m[INFO     00:21:250] \u001b[0m\u001b[97m --------------------------------------------------    [   0 /  65 ]\u001b[0m\n",
            "\u001b[97m[INFO     00:21:250] \u001b[0m\u001b[97mTotal                                                     36 / 100\u001b[0m\n"
          ]
        }
      ],
      "source": [
        "!python -m grader homework -v"
      ]
    }
  ],
  "metadata": {
    "accelerator": "GPU",
    "colab": {
      "gpuType": "T4",
      "machine_shape": "hm",
      "provenance": [],
      "mount_file_id": "1ycCCLgZxPGZJhICp0L45UXpqRcAnNoYh",
      "authorship_tag": "ABX9TyM9CB+dx8sWy4BwfHn1zKNC",
      "include_colab_link": true
    },
    "kernelspec": {
      "display_name": "Python 3",
      "name": "python3"
    },
    "language_info": {
      "name": "python"
    }
  },
  "nbformat": 4,
  "nbformat_minor": 0
}